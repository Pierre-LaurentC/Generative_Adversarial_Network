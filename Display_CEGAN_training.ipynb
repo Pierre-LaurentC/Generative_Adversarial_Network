{
 "cells": [
  {
   "cell_type": "code",
   "execution_count": 1,
   "metadata": {},
   "outputs": [],
   "source": [
    "import numpy as np\n",
    "import matplotlib.dates as mdates\n",
    "import matplotlib\n",
    "import matplotlib.pyplot as plt\n",
    "import datetime\n",
    "import os"
   ]
  },
  {
   "cell_type": "code",
   "execution_count": 2,
   "metadata": {},
   "outputs": [],
   "source": [
    "import glob\n",
    "mountFileName = \"../../Bureau/IRAP_mount/NN_training/GAN/matrices_CEGAN/\"\n",
    "localFileName = 'matrices_CEGAN/'\n",
    "autoencoderTrainingMount = \"../../../Desktop/IRAP_mount/IonosphericSignalRecontruction/AE_training_results/\"\n",
    "autoencoderTrainingLocal = \"../IonosphericSignalRecontruction/AE_training_results/\""
   ]
  },
  {
   "cell_type": "code",
   "execution_count": 3,
   "metadata": {},
   "outputs": [],
   "source": [
    "def DisplayGraphWithInfos(array, infos, title, axs, axy, axn, fig):\n",
    "    x_lims = list()\n",
    "    x_lims.append(infos[0]+datetime.timedelta(hours=16))\n",
    "    x_lims.append(x_lims[0]+datetime.timedelta(days=infos[7]))\n",
    "    x_lims = mdates.date2num(x_lims)\n",
    "    axs[axy][axn].xaxis_date()\n",
    "    axs[axy][axn].imshow(array, origin='lower', cmap=plt.get_cmap('jet',20) , aspect='auto',extent=[x_lims[0],x_lims[1],infos[2],infos[1]])\n",
    "    x_lims = mdates.DateFormatter(\"%H:%M\")\n",
    "    axs[axy][axn].xaxis.set_major_formatter(x_lims)\n",
    "    axs[axy][axn].set_title(\"{} -- {} -- {}/{}/{} -- Quiet:{}\".format(infos[9], title, infos[0].year, infos[0].month, infos[0].day, infos[8]))\n",
    "    axs[axy][axn].set_xlabel(\"Time\")\n",
    "    axs[axy][axn].set_ylabel(\"Latitude\")\n",
    "    sm = plt.cm.ScalarMappable(cmap=plt.get_cmap('jet'), norm=plt.Normalize(vmin=infos[6], vmax=infos[5]))\n",
    "    sm._A = []\n",
    "    clb=fig.colorbar(sm, ax=axs[axy][axn])\n",
    "    clb.set_label(\"nT\")"
   ]
  },
  {
   "cell_type": "code",
   "execution_count": 4,
   "metadata": {},
   "outputs": [
    {
     "ename": "KeyboardInterrupt",
     "evalue": "",
     "output_type": "error",
     "traceback": [
      "\u001b[0;31m---------------------------------------------------------------------------\u001b[0m",
      "\u001b[0;31mKeyboardInterrupt\u001b[0m                         Traceback (most recent call last)",
      "\u001b[0;31mKeyboardInterrupt\u001b[0m: "
     ]
    }
   ],
   "source": [
    "trainingArray = []\n",
    "epoch = 0\n",
    "\n",
    "for i in range(0,6):\n",
    "    AE_saveName = \"AE_training_epoch{}_matrix{}.npy\".format(epoch, i)\n",
    "    GAN_saveName = \"CEGAN_lines_epoch{}_matrix{}.npy\".format(epoch, i)\n",
    "    trainingArray.append(np.load('{}{}'.format(mountFileName, GAN_saveName), allow_pickle=True, encoding=\"latin1\"), )\n",
    "trainingArray = np.asarray(trainingArray)\n",
    "    \n",
    "numberOfPlots = 6\n",
    "fig, axs = plt.subplots(numberOfPlots,4, figsize=(25, 10), facecolor='w', edgecolor='k')\n",
    "fig.subplots_adjust(hspace = 1., wspace=.15)\n",
    "\n",
    "axs = axs.ravel().reshape(numberOfPlots,4)\n",
    "\n",
    "fig.suptitle(\"Contextual Convolutional Generative Adversarial Network reconstruction on a 6000 matrices dataset and 10 000 epochs training\")\n",
    "\n",
    "for y in range(numberOfPlots):\n",
    "    DisplayGraphWithInfos(trainingArray[y][0], trainingArray[y][4], \"Ground truth\", axs, y, 0, fig)\n",
    "    DisplayGraphWithInfos(trainingArray[y][1], trainingArray[y][4], \"Ground truth with ML\", axs, y, 1, fig)\n",
    "    DisplayGraphWithInfos(trainingArray[y][2], trainingArray[y][4], \"Random data gap\", axs, y, 2, fig)\n",
    "    DisplayGraphWithInfos(trainingArray[y][3], trainingArray[y][4], \"Contextual GAN reconstruction\", axs, y, 3, fig)\n",
    "\n",
    "\n",
    "fig.savefig(\"NeuralNet_predictions\")\n",
    "fig.show()"
   ]
  },
  {
   "cell_type": "code",
   "execution_count": 6,
   "metadata": {},
   "outputs": [
    {
     "ename": "ModuleNotFoundError",
     "evalue": "No module named 'tensorflow'",
     "output_type": "error",
     "traceback": [
      "\u001b[0;31m---------------------------------------------------------------------------\u001b[0m",
      "\u001b[0;31mModuleNotFoundError\u001b[0m                       Traceback (most recent call last)",
      "\u001b[0;32m<ipython-input-6-fd9cd5bfe2e1>\u001b[0m in \u001b[0;36m<module>\u001b[0;34m\u001b[0m\n\u001b[1;32m      1\u001b[0m \u001b[0;31m# from keras.models import model_from_json\u001b[0m\u001b[0;34m\u001b[0m\u001b[0;34m\u001b[0m\u001b[0;34m\u001b[0m\u001b[0m\n\u001b[0;32m----> 2\u001b[0;31m \u001b[0;32mfrom\u001b[0m \u001b[0mtensorflow\u001b[0m\u001b[0;34m.\u001b[0m\u001b[0mkeras\u001b[0m\u001b[0;34m.\u001b[0m\u001b[0mmodels\u001b[0m \u001b[0;32mimport\u001b[0m \u001b[0mload_model\u001b[0m\u001b[0;34m,\u001b[0m \u001b[0mmodel_from_json\u001b[0m\u001b[0;34m\u001b[0m\u001b[0;34m\u001b[0m\u001b[0m\n\u001b[0m\u001b[1;32m      3\u001b[0m \u001b[0mjson_file\u001b[0m \u001b[0;34m=\u001b[0m \u001b[0mopen\u001b[0m\u001b[0;34m(\u001b[0m\u001b[0;34m'../../../Desktop/IRAP_mount/Generative_Adversarial_Network/saved_model_CEGAN/generator.json'\u001b[0m\u001b[0;34m,\u001b[0m \u001b[0;34m'r'\u001b[0m\u001b[0;34m)\u001b[0m\u001b[0;34m\u001b[0m\u001b[0;34m\u001b[0m\u001b[0m\n\u001b[1;32m      4\u001b[0m \u001b[0mloaded_model_json\u001b[0m \u001b[0;34m=\u001b[0m \u001b[0mjson_file\u001b[0m\u001b[0;34m.\u001b[0m\u001b[0mread\u001b[0m\u001b[0;34m(\u001b[0m\u001b[0;34m)\u001b[0m\u001b[0;34m\u001b[0m\u001b[0;34m\u001b[0m\u001b[0m\n\u001b[1;32m      5\u001b[0m \u001b[0mjson_file\u001b[0m\u001b[0;34m.\u001b[0m\u001b[0mclose\u001b[0m\u001b[0;34m(\u001b[0m\u001b[0;34m)\u001b[0m\u001b[0;34m\u001b[0m\u001b[0;34m\u001b[0m\u001b[0m\n",
      "\u001b[0;31mModuleNotFoundError\u001b[0m: No module named 'tensorflow'"
     ]
    }
   ],
   "source": [
    "# from keras.models import model_from_json\n",
    "from tensorflow.keras.models import load_model, model_from_json\n",
    "json_file = open('../../../Desktop/IRAP_mount/Generative_Adversarial_Network/saved_model_CEGAN/generator.json', 'r')\n",
    "loaded_model_json = json_file.read()\n",
    "json_file.close()\n",
    "generator = model_from_json(loaded_model_json)\n",
    "# load weights into new model\n",
    "generator.load_weights(\"../../../Desktop/IRAP_mount/Generative_Adversarial_Network/saved_model_CEGAN/generator_weights.hdf5\")\n",
    "\n",
    "json_file = open('../../../Desktop/IRAP_mount/Generative_Adversarial_Network/saved_model_CEGAN/discriminator.json', 'r')\n",
    "loaded_model_json = json_file.read()\n",
    "json_file.close()\n",
    "discriminator = model_from_json(loaded_model_json)\n",
    "# load weights into new model\n",
    "discriminator.load_weights(\"../../../Desktop/IRAP_mount/Generative_Adversarial_Network/saved_model_CEGAN/discriminator_weights.hdf5\")"
   ]
  },
  {
   "cell_type": "code",
   "execution_count": 15,
   "metadata": {},
   "outputs": [
    {
     "name": "stdout",
     "output_type": "stream",
     "text": [
      "0 0.8983727447925631\n",
      "1 0.8683048333689685\n",
      "2 0.8397084701790365\n",
      "3 0.8125836552227674\n",
      "4 0.7869303885001606\n",
      "5 0.4200168550014496\n",
      "6 0.3877525329589844\n",
      "7 0.3949686884880066\n",
      "8 0.3760886490345001\n",
      "9 0.37355124950408936\n",
      "10 0.37820500135421753\n",
      "11 0.35756629705429077\n",
      "12 0.3718632459640503\n",
      "13 0.3674054443836212\n",
      "14 0.368175208568573\n",
      "15 0.4046366512775421\n",
      "16 0.39149633049964905\n",
      "17 0.5980578563104255\n",
      "18 0.6040989140268516\n",
      "19 0.5818570456956391\n",
      "20 0.5766086807165813\n",
      "21 0.5759717339662405\n",
      "22 0.5927839595126365\n",
      "23 0.5534888175981809\n"
     ]
    },
    {
     "data": {
      "image/png": "[encoded data removed]",
      "text/plain": [
       "<Figure size 1440x720 with 1 Axes>"
      ]
     },
     "metadata": {
      "needs_background": "light"
     },
     "output_type": "display_data"
    }
   ],
   "source": [
    "import math\n",
    "\n",
    "plt.figure(figsize=(20,10))\n",
    "prediction = generator.predict(trainingArray[4][2].reshape(1, 24,144,1))\n",
    "\n",
    "displayArray = trainingArray[4][2].copy()\n",
    "for i in range(displayArray.shape[0]):\n",
    "    print(i, trainingArray[4][2][i][50])\n",
    "    if np.sum(displayArray[i]) == 72:\n",
    "        displayArray[i] = prediction[i-5]\n",
    "        \n",
    "plt.imshow(displayArray, origin='lower', cmap=plt.get_cmap('jet'))\n",
    "plt.show()"
   ]
  }
 ],
 "metadata": {
  "kernelspec": {
   "display_name": "Python 2.7 matlab",
   "language": "python",
   "name": "dlwp"
  },
  "language_info": {
   "codemirror_mode": {
    "name": "ipython",
    "version": 2
   },
   "file_extension": ".py",
   "mimetype": "text/x-python",
   "name": "python",
   "nbconvert_exporter": "python",
   "pygments_lexer": "ipython2",
   "version": "2.7.15"
  }
 },
 "nbformat": 4,
 "nbformat_minor": 4
}
