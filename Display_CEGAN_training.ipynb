{
 "cells": [
  {
   "cell_type": "code",
   "execution_count": 1,
   "metadata": {},
   "outputs": [],
   "source": [
    "import numpy as np\n",
    "import matplotlib.pyplot as plt\n",
    "import os"
   ]
  },
  {
   "cell_type": "code",
   "execution_count": 2,
   "metadata": {},
   "outputs": [
    {
     "name": "stdout",
     "output_type": "stream",
     "text": [
      "../matrices_CEGAN/base_16100_5.npy\n"
     ]
    }
   ],
   "source": [
    "import glob\n",
    "mountFileName = '../../Bureau/IRAP_mount/Generative_Adversarial_Network/matrices_CEGAN/'\n",
    "localFileName = '../matrices_CEGAN/'\n",
    "filenamesList = glob.glob('../matrices_CEGAN/base*')\n",
    "baseMatricesList = np.array(filenamesList)\n",
    "lastEpoch = np.int16((np.round((baseMatricesList.shape[0]/5)*10,0) - 9) // 10 * 10)\n",
    "print(baseMatricesList[-1])"
   ]
  },
  {
   "cell_type": "code",
   "execution_count": 4,
   "metadata": {},
   "outputs": [
    {
     "ename": "FileNotFoundError",
     "evalue": "[Errno 2] No such file or directory: '../../Bureau/IRAP_mount/Generative_Adversarial_Network/matrices_CEGAN/CEGAN_lines_epoch6100_matrix0.npy'",
     "output_type": "error",
     "traceback": [
      "\u001b[0;31m---------------------------------------------------------------------------\u001b[0m",
      "\u001b[0;31mFileNotFoundError\u001b[0m                         Traceback (most recent call last)",
      "\u001b[0;32m<ipython-input-4-6c3bcc64e01b>\u001b[0m in \u001b[0;36m<module>\u001b[0;34m\u001b[0m\n\u001b[1;32m     11\u001b[0m \u001b[0mepoch\u001b[0m \u001b[0;34m=\u001b[0m \u001b[0;36m6100\u001b[0m\u001b[0;34m\u001b[0m\u001b[0;34m\u001b[0m\u001b[0m\n\u001b[1;32m     12\u001b[0m \u001b[0;32mfor\u001b[0m \u001b[0mi\u001b[0m \u001b[0;32min\u001b[0m \u001b[0mrange\u001b[0m\u001b[0;34m(\u001b[0m\u001b[0;36m0\u001b[0m\u001b[0;34m,\u001b[0m\u001b[0;36m6\u001b[0m\u001b[0;34m)\u001b[0m\u001b[0;34m:\u001b[0m\u001b[0;34m\u001b[0m\u001b[0;34m\u001b[0m\u001b[0m\n\u001b[0;32m---> 13\u001b[0;31m     \u001b[0mbase\u001b[0m\u001b[0;34m[\u001b[0m\u001b[0mi\u001b[0m\u001b[0;34m]\u001b[0m \u001b[0;34m=\u001b[0m \u001b[0mnp\u001b[0m\u001b[0;34m.\u001b[0m\u001b[0mload\u001b[0m\u001b[0;34m(\u001b[0m\u001b[0;34m'{}CEGAN_lines_epoch{}_matrix{}.npy'\u001b[0m\u001b[0;34m.\u001b[0m\u001b[0mformat\u001b[0m\u001b[0;34m(\u001b[0m\u001b[0mmountFileName\u001b[0m\u001b[0;34m,\u001b[0m \u001b[0mepoch\u001b[0m\u001b[0;34m,\u001b[0m \u001b[0mi\u001b[0m\u001b[0;34m)\u001b[0m\u001b[0;34m)\u001b[0m\u001b[0;34m\u001b[0m\u001b[0;34m\u001b[0m\u001b[0m\n\u001b[0m\u001b[1;32m     14\u001b[0m     \u001b[0mmasked\u001b[0m\u001b[0;34m[\u001b[0m\u001b[0mi\u001b[0m\u001b[0;34m]\u001b[0m \u001b[0;34m=\u001b[0m \u001b[0mnp\u001b[0m\u001b[0;34m.\u001b[0m\u001b[0mload\u001b[0m\u001b[0;34m(\u001b[0m\u001b[0;34m'{}CEGAN_lines_epoch{}_matrix{}.npy'\u001b[0m\u001b[0;34m.\u001b[0m\u001b[0mformat\u001b[0m\u001b[0;34m(\u001b[0m\u001b[0mmountFileName\u001b[0m\u001b[0;34m,\u001b[0m \u001b[0mepoch\u001b[0m\u001b[0;34m,\u001b[0m \u001b[0mi\u001b[0m\u001b[0;34m)\u001b[0m\u001b[0;34m)\u001b[0m\u001b[0;34m\u001b[0m\u001b[0;34m\u001b[0m\u001b[0m\n\u001b[1;32m     15\u001b[0m     \u001b[0mfilled\u001b[0m\u001b[0;34m[\u001b[0m\u001b[0mi\u001b[0m\u001b[0;34m]\u001b[0m \u001b[0;34m=\u001b[0m \u001b[0mnp\u001b[0m\u001b[0;34m.\u001b[0m\u001b[0mload\u001b[0m\u001b[0;34m(\u001b[0m\u001b[0;34m'{}CEGAN_lines_epoch{}_matrix{}.npy'\u001b[0m\u001b[0;34m.\u001b[0m\u001b[0mformat\u001b[0m\u001b[0;34m(\u001b[0m\u001b[0mmountFileName\u001b[0m\u001b[0;34m,\u001b[0m \u001b[0mepoch\u001b[0m\u001b[0;34m,\u001b[0m \u001b[0mi\u001b[0m\u001b[0;34m)\u001b[0m\u001b[0;34m)\u001b[0m\u001b[0;34m\u001b[0m\u001b[0;34m\u001b[0m\u001b[0m\n",
      "\u001b[0;32m~/anaconda3/lib/python3.7/site-packages/numpy/lib/npyio.py\u001b[0m in \u001b[0;36mload\u001b[0;34m(file, mmap_mode, allow_pickle, fix_imports, encoding)\u001b[0m\n\u001b[1;32m    426\u001b[0m         \u001b[0mown_fid\u001b[0m \u001b[0;34m=\u001b[0m \u001b[0;32mFalse\u001b[0m\u001b[0;34m\u001b[0m\u001b[0;34m\u001b[0m\u001b[0m\n\u001b[1;32m    427\u001b[0m     \u001b[0;32melse\u001b[0m\u001b[0;34m:\u001b[0m\u001b[0;34m\u001b[0m\u001b[0;34m\u001b[0m\u001b[0m\n\u001b[0;32m--> 428\u001b[0;31m         \u001b[0mfid\u001b[0m \u001b[0;34m=\u001b[0m \u001b[0mopen\u001b[0m\u001b[0;34m(\u001b[0m\u001b[0mos_fspath\u001b[0m\u001b[0;34m(\u001b[0m\u001b[0mfile\u001b[0m\u001b[0;34m)\u001b[0m\u001b[0;34m,\u001b[0m \u001b[0;34m\"rb\"\u001b[0m\u001b[0;34m)\u001b[0m\u001b[0;34m\u001b[0m\u001b[0;34m\u001b[0m\u001b[0m\n\u001b[0m\u001b[1;32m    429\u001b[0m         \u001b[0mown_fid\u001b[0m \u001b[0;34m=\u001b[0m \u001b[0;32mTrue\u001b[0m\u001b[0;34m\u001b[0m\u001b[0;34m\u001b[0m\u001b[0m\n\u001b[1;32m    430\u001b[0m \u001b[0;34m\u001b[0m\u001b[0m\n",
      "\u001b[0;31mFileNotFoundError\u001b[0m: [Errno 2] No such file or directory: '../../Bureau/IRAP_mount/Generative_Adversarial_Network/matrices_CEGAN/CEGAN_lines_epoch6100_matrix0.npy'"
     ]
    }
   ],
   "source": [
    "# numberOfFiles=0\n",
    "# try: \n",
    "#     filesXtrain = os.listdir('../matrices_CEGAN/'); \n",
    "#     numberOfFiles = len(filesXtrain)/3\n",
    "# except: print('File not found')\n",
    "# numberOfFiles-=11\n",
    "\n",
    "base = np.empty((6,24,144))\n",
    "filled = np.empty((6,24,144))\n",
    "masked = np.empty((6,24,144))\n",
    "epoch = 6100\n",
    "for i in range(0,6):\n",
    "    base[i] = np.load('{}CEGAN_lines_epoch{}_matrix{}.npy'.format(mountFileName, epoch, i))\n",
    "    masked[i] = np.load('{}CEGAN_lines_epoch{}_matrix{}.npy'.format(mountFileName, epoch, i))\n",
    "    filled[i] = np.load('{}CEGAN_lines_epoch{}_matrix{}.npy'.format(mountFileName, epoch, i))\n",
    "\n",
    "numberOfPlots = 6\n",
    "fig, axs = plt.subplots(numberOfPlots,3, figsize=(25, 10), facecolor='w', edgecolor='k')\n",
    "fig.subplots_adjust(hspace = .5, wspace=.1)\n",
    "\n",
    "axs = axs.ravel().reshape(numberOfPlots,3)\n",
    "for y in range(numberOfPlots):\n",
    "        axs[y][0].imshow(base[y], origin='lower', cmap=plt.get_cmap('jet', 20) , aspect='auto')\n",
    "        axs[y][0].set_title(\"base\")\n",
    "        axs[y][1].imshow(masked[y], origin='lower', cmap=plt.get_cmap('jet',20) , aspect='auto')\n",
    "        axs[y][1].set_title(\"masked\")\n",
    "        axs[y][2].imshow(filled[y], origin='lower', cmap=plt.get_cmap('jet',20) , aspect='auto')\n",
    "        axs[y][2].set_title(\"filled\")\n",
    "fig.savefig(\"CGAN_predictions\")"
   ]
  },
  {
   "cell_type": "code",
   "execution_count": 17,
   "metadata": {},
   "outputs": [],
   "source": [
    "from keras.models import load_model, model_from_json\n",
    "json_file = open('saved_model_CEGAN/generator.json', 'r')\n",
    "loaded_model_json = json_file.read()\n",
    "json_file.close()\n",
    "generator = model_from_json(loaded_model_json)\n",
    "# load weights into new model\n",
    "generator.load_weights(\"saved_model_CEGAN/generator_weights.hdf5\")\n",
    "\n",
    "json_file = open('saved_model_CEGAN/discriminator.json', 'r')\n",
    "loaded_model_json = json_file.read()\n",
    "json_file.close()\n",
    "discriminator = model_from_json(loaded_model_json)\n",
    "# load weights into new model\n",
    "discriminator.load_weights(\"saved_model_CEGAN/discriminator_weights.hdf5\")"
   ]
  }
 ],
 "metadata": {
  "kernelspec": {
   "display_name": "Python 3",
   "language": "python",
   "name": "python3"
  },
  "language_info": {
   "codemirror_mode": {
    "name": "ipython",
    "version": 3
   },
   "file_extension": ".py",
   "mimetype": "text/x-python",
   "name": "python",
   "nbconvert_exporter": "python",
   "pygments_lexer": "ipython3",
   "version": "3.7.4"
  }
 },
 "nbformat": 4,
 "nbformat_minor": 4
}
