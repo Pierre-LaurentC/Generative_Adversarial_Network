{
 "cells": [
  {
   "cell_type": "code",
   "execution_count": 1,
   "metadata": {},
   "outputs": [],
   "source": [
    "import numpy as np\n",
    "import matplotlib.dates as mdates\n",
    "import matplotlib.pyplot as plt\n",
    "import datetime\n",
    "import os"
   ]
  },
  {
   "cell_type": "code",
   "execution_count": 14,
   "metadata": {},
   "outputs": [
    {
     "name": "stdout",
     "output_type": "stream",
     "text": [
      "../matrices_CEGAN/base_16100_5.npy\n"
     ]
    }
   ],
   "source": [
    "import glob\n",
    "mountFileName = \"../../../Desktop/IRAP_mount/Generative_Adversarial_Network/matrices_CEGAN/\"\n",
    "localFileName = 'matrices_CEGAN/'\n",
    "filenamesList = glob.glob('../matrices_CEGAN/base*')\n",
    "baseMatricesList = np.array(filenamesList)\n",
    "lastEpoch = np.int16((np.round((baseMatricesList.shape[0]/5)*10,0) - 9) // 10 * 10)\n",
    "print(baseMatricesList[-1])"
   ]
  },
  {
   "cell_type": "code",
   "execution_count": 15,
   "metadata": {},
   "outputs": [],
   "source": [
    "def DisplayGraphWithInfos(array, infos, title, axs, axy, axn, fig):\n",
    "    x_lims = list()\n",
    "    x_lims.append(infos[0]+datetime.timedelta(hours=7))\n",
    "    x_lims.append(x_lims[0]+datetime.timedelta(days=infos[5]))\n",
    "    x_lims = mdates.date2num(x_lims)\n",
    "    axs[axy][axn].xaxis_date()\n",
    "    axs[axy][axn].imshow(array, origin='lower', cmap=plt.get_cmap('jet') , aspect='auto',extent=[x_lims[0],x_lims[1],infos[2],infos[1]])\n",
    "    x_lims = mdates.DateFormatter(\"%H:%M\")\n",
    "    axs[axy][axn].xaxis.set_major_formatter(x_lims)\n",
    "    axs[axy][axn].set_title(\"{} - {}/{}/{} - Quiet: {}\".format(title, infos[0].year, infos[0].month, infos[0].day, infos[6]))\n",
    "    axs[axy][axn].set_xlabel(\"Time\")\n",
    "    axs[axy][axn].set_ylabel(\"Latitude\")\n",
    "    sm = plt.cm.ScalarMappable(cmap=plt.get_cmap('jet'), norm=plt.Normalize(vmin=infos[4], vmax=infos[3]))\n",
    "    sm._A = []\n",
    "    clb=fig.colorbar(sm, ax=axs[axy][axn])\n",
    "    clb.set_label(\"nT\")"
   ]
  },
  {
   "cell_type": "code",
   "execution_count": 37,
   "metadata": {},
   "outputs": [
    {
     "data": {
      "text/plain": [
       "-50.60416793823242"
      ]
     },
     "execution_count": 37,
     "metadata": {},
     "output_type": "execute_result"
    }
   ],
   "source": [
    "trainingArray[3][4]"
   ]
  },
  {
   "cell_type": "code",
   "execution_count": 38,
   "metadata": {},
   "outputs": [
    {
     "ename": "FileNotFoundError",
     "evalue": "[Errno 2] No such file or directory: '../matrices_CEGAN/CEGAN_lines_epoch0_matrix0.npy'",
     "output_type": "error",
     "traceback": [
      "\u001b[0;31m---------------------------------------------------------------------------\u001b[0m",
      "\u001b[0;31mFileNotFoundError\u001b[0m                         Traceback (most recent call last)",
      "\u001b[0;32m<ipython-input-38-157148f76788>\u001b[0m in \u001b[0;36m<module>\u001b[0;34m\u001b[0m\n\u001b[1;32m      2\u001b[0m \u001b[0mepoch\u001b[0m \u001b[0;34m=\u001b[0m \u001b[0;36m0\u001b[0m\u001b[0;34m\u001b[0m\u001b[0;34m\u001b[0m\u001b[0m\n\u001b[1;32m      3\u001b[0m \u001b[0;32mfor\u001b[0m \u001b[0mi\u001b[0m \u001b[0;32min\u001b[0m \u001b[0mrange\u001b[0m\u001b[0;34m(\u001b[0m\u001b[0;36m0\u001b[0m\u001b[0;34m,\u001b[0m\u001b[0;36m6\u001b[0m\u001b[0;34m)\u001b[0m\u001b[0;34m:\u001b[0m\u001b[0;34m\u001b[0m\u001b[0;34m\u001b[0m\u001b[0m\n\u001b[0;32m----> 4\u001b[0;31m     \u001b[0mtrainingArray\u001b[0m\u001b[0;34m.\u001b[0m\u001b[0mappend\u001b[0m\u001b[0;34m(\u001b[0m\u001b[0mnp\u001b[0m\u001b[0;34m.\u001b[0m\u001b[0mload\u001b[0m\u001b[0;34m(\u001b[0m\u001b[0;34m'{}CEGAN_lines_epoch{}_matrix{}.npy'\u001b[0m\u001b[0;34m.\u001b[0m\u001b[0mformat\u001b[0m\u001b[0;34m(\u001b[0m\u001b[0mlocalFileName\u001b[0m\u001b[0;34m,\u001b[0m \u001b[0mepoch\u001b[0m\u001b[0;34m,\u001b[0m \u001b[0mi\u001b[0m\u001b[0;34m)\u001b[0m\u001b[0;34m,\u001b[0m \u001b[0mallow_pickle\u001b[0m\u001b[0;34m=\u001b[0m\u001b[0;32mTrue\u001b[0m\u001b[0;34m,\u001b[0m \u001b[0mencoding\u001b[0m\u001b[0;34m=\u001b[0m\u001b[0;34m\"latin1\"\u001b[0m\u001b[0;34m)\u001b[0m\u001b[0;34m)\u001b[0m\u001b[0;34m\u001b[0m\u001b[0;34m\u001b[0m\u001b[0m\n\u001b[0m\u001b[1;32m      5\u001b[0m \u001b[0mtrainingArray\u001b[0m \u001b[0;34m=\u001b[0m \u001b[0mnp\u001b[0m\u001b[0;34m.\u001b[0m\u001b[0masarray\u001b[0m\u001b[0;34m(\u001b[0m\u001b[0mtrainingArray\u001b[0m\u001b[0;34m)\u001b[0m\u001b[0;34m\u001b[0m\u001b[0;34m\u001b[0m\u001b[0m\n\u001b[1;32m      6\u001b[0m \u001b[0;34m\u001b[0m\u001b[0m\n",
      "\u001b[0;32m~/anaconda3/lib/python3.7/site-packages/numpy/lib/npyio.py\u001b[0m in \u001b[0;36mload\u001b[0;34m(file, mmap_mode, allow_pickle, fix_imports, encoding)\u001b[0m\n\u001b[1;32m    426\u001b[0m         \u001b[0mown_fid\u001b[0m \u001b[0;34m=\u001b[0m \u001b[0;32mFalse\u001b[0m\u001b[0;34m\u001b[0m\u001b[0;34m\u001b[0m\u001b[0m\n\u001b[1;32m    427\u001b[0m     \u001b[0;32melse\u001b[0m\u001b[0;34m:\u001b[0m\u001b[0;34m\u001b[0m\u001b[0;34m\u001b[0m\u001b[0m\n\u001b[0;32m--> 428\u001b[0;31m         \u001b[0mfid\u001b[0m \u001b[0;34m=\u001b[0m \u001b[0mopen\u001b[0m\u001b[0;34m(\u001b[0m\u001b[0mos_fspath\u001b[0m\u001b[0;34m(\u001b[0m\u001b[0mfile\u001b[0m\u001b[0;34m)\u001b[0m\u001b[0;34m,\u001b[0m \u001b[0;34m\"rb\"\u001b[0m\u001b[0;34m)\u001b[0m\u001b[0;34m\u001b[0m\u001b[0;34m\u001b[0m\u001b[0m\n\u001b[0m\u001b[1;32m    429\u001b[0m         \u001b[0mown_fid\u001b[0m \u001b[0;34m=\u001b[0m \u001b[0;32mTrue\u001b[0m\u001b[0;34m\u001b[0m\u001b[0;34m\u001b[0m\u001b[0m\n\u001b[1;32m    430\u001b[0m \u001b[0;34m\u001b[0m\u001b[0m\n",
      "\u001b[0;31mFileNotFoundError\u001b[0m: [Errno 2] No such file or directory: '../matrices_CEGAN/CEGAN_lines_epoch0_matrix0.npy'"
     ]
    }
   ],
   "source": [
    "trainingArray = []\n",
    "epoch = 0\n",
    "for i in range(0,6):\n",
    "    trainingArray.append(np.load('{}CEGAN_lines_epoch{}_matrix{}.npy'.format(localFileName, epoch, i), allow_pickle=True, encoding=\"latin1\"))\n",
    "trainingArray = np.asarray(trainingArray)\n",
    "    \n",
    "numberOfPlots = 6\n",
    "fig, axs = plt.subplots(numberOfPlots,4, figsize=(25, 10), facecolor='w', edgecolor='k')\n",
    "fig.subplots_adjust(hspace = 1., wspace=.15)\n",
    "\n",
    "axs = axs.ravel().reshape(numberOfPlots,4)\n",
    "\n",
    "fig.suptitle(\"Contextual Convolutional Generative Adversarial Network reconstruction on a 6000 matrices dataset and 10 000 epochs training\")\n",
    "\n",
    "for y in range(numberOfPlots):\n",
    "    DisplayGraphWithInfos(trainingArray[y][0], trainingArray[y][4], \"Ground truth\", axs, y, 0, fig)\n",
    "    DisplayGraphWithInfos(trainingArray[y][1], trainingArray[y][4], \"Ground truth with ML\", axs, y, 1, fig)\n",
    "    DisplayGraphWithInfos(trainingArray[y][2], trainingArray[y][4], \"Random data gap\", axs, y, 2, fig)\n",
    "    DisplayGraphWithInfos(trainingArray[y][3], trainingArray[y][4], \"Contextual GAN reconstruction\", axs, y, 3, fig)\n",
    "    \n",
    "fig.savefig(\"CGAN_predictions\")"
   ]
  },
  {
   "cell_type": "code",
   "execution_count": 17,
   "metadata": {},
   "outputs": [],
   "source": [
    "from keras.models import load_model, model_from_json\n",
    "json_file = open('saved_model_CEGAN/generator.json', 'r')\n",
    "loaded_model_json = json_file.read()\n",
    "json_file.close()\n",
    "generator = model_from_json(loaded_model_json)\n",
    "# load weights into new model\n",
    "generator.load_weights(\"saved_model_CEGAN/generator_weights.hdf5\")\n",
    "\n",
    "json_file = open('saved_model_CEGAN/discriminator.json', 'r')\n",
    "loaded_model_json = json_file.read()\n",
    "json_file.close()\n",
    "discriminator = model_from_json(loaded_model_json)\n",
    "# load weights into new model\n",
    "discriminator.load_weights(\"saved_model_CEGAN/discriminator_weights.hdf5\")"
   ]
  }
 ],
 "metadata": {
  "kernelspec": {
   "display_name": "Python 2",
   "language": "python",
   "name": "python2"
  },
  "language_info": {
   "codemirror_mode": {
    "name": "ipython",
    "version": 3
   },
   "file_extension": ".py",
   "mimetype": "text/x-python",
   "name": "python",
   "nbconvert_exporter": "python",
   "pygments_lexer": "ipython3",
   "version": "3.7.4"
  }
 },
 "nbformat": 4,
 "nbformat_minor": 4
}
