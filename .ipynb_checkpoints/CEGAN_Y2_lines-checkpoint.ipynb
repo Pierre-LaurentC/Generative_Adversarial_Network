{
 "cells": [
  {
   "cell_type": "markdown",
   "metadata": {},
   "source": [
    "### Training and Testing a Convolutional Auto Encoder based on an Adversarial Networks architecture\n",
    "\n",
    "This Notebook introduces the possibilities of reconstruction we can perform with a CAE-GAN.\n",
    "This version is coded to work on multiple spread lines and reconstruct matrices from a training over a different continent than the one we will use for reconstruction (for example, train on American matrices and reconstruct on Asian matrices)"
   ]
  },
  {
   "cell_type": "code",
   "execution_count": 1,
   "metadata": {},
   "outputs": [],
   "source": [
    "from __future__ import print_function, division\n",
    "import tensorflow as tf \n",
    "from keras.layers import Input, Dense, Reshape, Flatten, Dropout, multiply, GaussianNoise\n",
    "from keras.layers import BatchNormalization, Activation, Embedding, ZeroPadding2D, MaxPool2D, Conv2DTranspose\n",
    "from keras.layers import MaxPooling2D\n",
    "from keras.layers.advanced_activations import LeakyReLU\n",
    "from keras.layers.convolutional import UpSampling2D, Conv2D\n",
    "from tensorflow.keras.models import Sequential, Model\n",
    "from keras.optimizers import Adam, RMSprop\n",
    "from keras import losses\n",
    "from tensorflow.keras.utils import to_categorical\n",
    "from tensorflow.keras import backend as K\n",
    "import os\n",
    "import matplotlib.pyplot as plt\n",
    "import math\n",
    "import numpy as np\n",
    "from sklearn.preprocessing import MinMaxScaler\n",
    "from sklearn.metrics import mean_absolute_error\n",
    "from keras.utils.vis_utils import plot_model\n",
    "import keras.backend as K\n",
    "from keras.optimizers import RMSprop\n",
    "from IPython.display import clear_output\n",
    "from keras.models import model_from_json, load_model"
   ]
  },
  {
   "cell_type": "code",
   "execution_count": 2,
   "metadata": {},
   "outputs": [],
   "source": [
    "# Defines Path and Discriminator/Generator losses arrays\n",
    "pathModelSave = '../NN_training/CEGAN_lines/model_save/'\n",
    "D_loss_plot = np.array([])\n",
    "G_loss_plot = np.array([])\n",
    "\n",
    "#How many matrices are in the dataset and how many of them do we want in the training and testing parts\n",
    "dataSetSize = 10\n",
    "testSetSize = 2\n",
    "\n",
    "# Instantiates the numpy arrays datasets according to the training and testing sizes and assuming that the dimensions of a single matrix is (24,144)\n",
    "y2_train = np.empty((dataSetSize,24,144))\n",
    "y2_train_infos = np.empty((dataSetSize,12), dtype=\"O\")\n",
    "y2_train_base = np.empty((dataSetSize,24,144))\n",
    "y2_test = np.empty((testSetSize,24,144))\n",
    "y2_test_infos = np.empty((testSetSize,12), dtype=\"O\")\n",
    "y2_test_base = np.empty((testSetSize,24,144))\n",
    "dataSet = []\n",
    "\n",
    "#load all data in a single array\n",
    "for i in range(dataSetSize):\n",
    "    dataSet.append(np.load('../TrainingDataset/Asia/x_train/y2_{}.npy'.format(i), allow_pickle=True, encoding='latin1'))\n",
    "dataSet = np.asarray(dataSet)\n",
    "\n",
    "#split the previous array into training and testing parts\n",
    "for i in range(dataSetSize-testSetSize):\n",
    "    y2_train[i] = dataSet[i][1]\n",
    "    y2_train_base[i] = dataSet[i][0]\n",
    "    y2_train_infos[i] = dataSet[i][2]\n",
    "for i in range(dataSetSize-testSetSize,dataSetSize):\n",
    "    y2_test[i-dataSetSize] = dataSet[i][1]\n",
    "    y2_test_base[i-dataSetSize] = dataSet[i][0]\n",
    "    y2_test_infos[i-dataSetSize] = dataSet[i][2]\n",
    "\n",
    "#removes rows where there are nans before normalization\n",
    "nans = np.empty([])\n",
    "for i in range(y2_train.shape[0]):\n",
    "    if math.isnan(np.sum(y2_train[i])):\n",
    "        nans = np.append(nans, i)\n",
    "y2_train = np.delete(y2_train, nans.astype(int), axis=0)    \n",
    "y2_train_base = np.delete(y2_train_base, nans.astype(int), axis=0)\n",
    "y2_train_infos = np.delete(y2_train_infos, nans.astype(int), axis=0)\n",
    "scaler = MinMaxScaler(feature_range=(-1,1), copy=True)\n",
    "for i in range(y2_train.shape[0]):\n",
    "    array = y2_train[i].flatten()\n",
    "    array = scaler.fit_transform(array.reshape(-1, 1))\n",
    "    y2_train[i] = array.reshape(24,144)\n",
    "\n",
    "y2_train = y2_train.reshape(y2_train.shape[0],24,144,1)\n",
    "y2_test = y2_test.reshape(y2_test.shape[0],24,144,1)"
   ]
  },
  {
   "cell_type": "markdown",
   "metadata": {},
   "source": [
    "The below cell gets the matrices we want to reconstruct for Asia (in this example), gets the latitudes where lines are missing and creates the Training mask. This mask will be repercuted through the training to mimic the situation we want to reconstruct.\n",
    "The `testLine` variable selects which station we are going to use to test the accuracy of our model, this line will be removed to make it invisible to the Neural Network."
   ]
  },
  {
   "cell_type": "code",
   "execution_count": 3,
   "metadata": {},
   "outputs": [
    {
     "name": "stdout",
     "output_type": "stream",
     "text": [
      "Training mask : [0, 1, 2, 4, 6, 8, 10, 12, 15, 16, 17, 19, 20, 21, 22, 23]\n"
     ]
    }
   ],
   "source": [
    "maskAsia = []\n",
    "datasetAsia = []\n",
    "datasetAsiaInfos = []\n",
    "testLine = 10\n",
    "\n",
    "for a in range(10):\n",
    "    datasetAsia.append(np.load('../TrainingDataset/Asia/x_train/y2_{}.npy'.format(a), allow_pickle=True, encoding='latin1'))\n",
    "    datasetAsiaInfos.append(datasetAsia[a][2])\n",
    "    datasetAsia[a] = np.asarray(datasetAsia[a][0])\n",
    "    \n",
    "datasetAsia = np.asarray(datasetAsia)\n",
    "datasetAsiaInfos = np.asarray(datasetAsiaInfos)\n",
    "\n",
    "\n",
    "for i in range(datasetAsia[5].shape[0]):\n",
    "    if i == testLine:\n",
    "        maskAsia.append(i)\n",
    "    if math.isnan(np.sum(datasetAsia[1][i])):\n",
    "        maskAsia.append(i)\n",
    "\n",
    "for i in range(datasetAsia.shape[0]):\n",
    "    arrayAsia = datasetAsia[i].flatten()\n",
    "    arrayAsia = scaler.fit_transform(arrayAsia.reshape(-1, 1))\n",
    "    datasetAsia[i] = arrayAsia.reshape(24,144)\n",
    "    \n",
    "print('Training mask : {}'.format(maskAsia))"
   ]
  },
  {
   "cell_type": "markdown",
   "metadata": {},
   "source": [
    "We build our Generator and Discriminator in functions because we are using a multi networks achitecture, everyting will be compiled later."
   ]
  },
  {
   "cell_type": "code",
   "execution_count": 4,
   "metadata": {},
   "outputs": [],
   "source": [
    "def build_generator():\n",
    "    model = Sequential()\n",
    "\n",
    "    # Encoder\n",
    "    model.add(Conv2D(32, kernel_size=3, strides=2, input_shape=img_shape, padding=\"same\"))\n",
    "    model.add(LeakyReLU(alpha=0.2))\n",
    "    model.add(BatchNormalization(momentum=0.8))\n",
    "    model.add(Conv2D(64, kernel_size=3, strides=2, padding=\"same\"))\n",
    "    model.add(LeakyReLU(alpha=0.2))\n",
    "    model.add(BatchNormalization(momentum=0.8))\n",
    "    model.add(Conv2D(128, kernel_size=3, strides=2, padding=\"same\"))\n",
    "    model.add(LeakyReLU(alpha=0.2))\n",
    "    model.add(BatchNormalization(momentum=0.8))\n",
    "    model.add(Dropout(0.5))\n",
    "\n",
    "    # Decoder\n",
    "    model.add(UpSampling2D((2,2)))\n",
    "    model.add(Conv2D(128, kernel_size=3, padding=\"same\"))\n",
    "    model.add(Activation('relu'))\n",
    "    model.add(BatchNormalization(momentum=0.8))\n",
    "    model.add(UpSampling2D())\n",
    "    model.add(Conv2D(64, kernel_size=3, padding=\"same\"))\n",
    "    model.add(Activation('relu'))\n",
    "    model.add(BatchNormalization(momentum=0.8))\n",
    "    model.add(UpSampling2D())\n",
    "    model.add(Conv2D(32, kernel_size=3, padding=\"same\"))\n",
    "    model.add(Activation('relu'))\n",
    "    model.add(BatchNormalization(momentum=0.8))\n",
    "    model.add(Conv2D(channels, kernel_size=3, padding=\"same\"))\n",
    "    model.add(Activation('tanh'))\n",
    "\n",
    "#     model.summary()\n",
    "\n",
    "    masked_img = Input(shape=img_shape)\n",
    "    gen_missing = model(masked_img)\n",
    "#     plot_model(model, to_file='model_plot.png', show_shapes=True)\n",
    "    return Model(masked_img, gen_missing)\n"
   ]
  },
  {
   "cell_type": "code",
   "execution_count": 5,
   "metadata": {},
   "outputs": [],
   "source": [
    "def build_discriminator():\n",
    "\n",
    "    model = Sequential()\n",
    "\n",
    "    model.add(Conv2D(32, kernel_size=3, strides=2, input_shape=missing_shape, padding=\"same\"))\n",
    "    model.add(LeakyReLU(alpha=0.2))\n",
    "    model.add(BatchNormalization(momentum=0.8))\n",
    "    model.add(Conv2D(64, kernel_size=3, strides=2, padding=\"same\"))\n",
    "    model.add(LeakyReLU(alpha=0.2))\n",
    "    model.add(BatchNormalization(momentum=0.8))\n",
    "    model.add(Conv2D(128, kernel_size=3, padding=\"same\"))\n",
    "    model.add(LeakyReLU(alpha=0.2))\n",
    "    model.add(BatchNormalization(momentum=0.8))\n",
    "    model.add(Conv2D(256, kernel_size=3, padding=\"same\"))\n",
    "    model.add(LeakyReLU(alpha=0.2))\n",
    "    model.add(BatchNormalization(momentum=0.8))\n",
    "    model.add(Flatten())\n",
    "    model.add(Dense(1, activation='sigmoid'))\n",
    "#     model.summary()\n",
    "\n",
    "    img = Input(shape=missing_shape)\n",
    "    validity = model(img)\n",
    "#     plot_model(model, to_file='model_plot.png', show_shapes=True)\n",
    "    return Model(img, validity)"
   ]
  },
  {
   "cell_type": "markdown",
   "metadata": {},
   "source": [
    "The binary crossentropy loss is used for the discriminator, however we are using a custom loss from the tensorflow package to be able to perform label smooting. "
   ]
  },
  {
   "cell_type": "code",
   "execution_count": 6,
   "metadata": {},
   "outputs": [],
   "source": [
    "def binary_crossentropy_label_smoothing(y_true, y_pred):\n",
    "    return tf.losses.binary_crossentropy(y_true, y_pred, label_smoothing=0.3)"
   ]
  },
  {
   "cell_type": "code",
   "execution_count": 7,
   "metadata": {},
   "outputs": [],
   "source": [
    "img_rows = 24\n",
    "img_cols = 144\n",
    "mask_height = 24\n",
    "mask_width = 144\n",
    "channels = 1\n",
    "num_classes = 2\n",
    "img_shape = (img_rows, img_cols, channels)\n",
    "missing_shape = (mask_height, mask_width, channels)\n",
    "\n",
    "optimizer = Adam(0.002, .5)\n",
    "\n",
    "# Build and compile the discriminator\n",
    "discriminator = build_discriminator()\n",
    "\n",
    "# # For the combined model we will only train the generator\n",
    "discriminator.trainable = False\n",
    "\n",
    "#Compile discriminator\n",
    "discriminator.compile(loss=binary_crossentropy_label_smoothing,\n",
    "    optimizer=optimizer,\n",
    "    metrics=['accuracy'])\n",
    "\n",
    "# Build the generator\n",
    "generator = build_generator()\n",
    "\n",
    "# The generator takes noise as input and generates the missing\n",
    "# part of the image\n",
    "masked_img = Input(shape=img_shape)\n",
    "gen_missing = generator(masked_img)\n",
    "\n",
    "# # The discriminator takes generated images as input and determines\n",
    "# # if it is generated or if it is a real image\n",
    "valid = discriminator(gen_missing)\n",
    "\n",
    "# # # The combined model  (stacked generator and discriminator)\n",
    "# # # Trains generator to fool discriminator\n",
    "combined = Model(masked_img , [gen_missing, valid])\n",
    "combined.compile(loss=['mse', binary_crossentropy_label_smoothing],\n",
    "    loss_weights=[0.999, 0.001],\n",
    "    optimizer=optimizer)"
   ]
  },
  {
   "cell_type": "markdown",
   "metadata": {},
   "source": [
    "The function below removes lines according to the mask we calculated earlier"
   ]
  },
  {
   "cell_type": "code",
   "execution_count": 8,
   "metadata": {},
   "outputs": [],
   "source": [
    "def mask_asia(imgs, mask):\n",
    "    imgs = imgs.reshape(imgs.shape[0],imgs.shape[1],imgs.shape[2])\n",
    "    masked_imgs = np.empty_like(imgs)\n",
    "    missing_parts = np.full_like(imgs, 0)\n",
    "    for i, img in enumerate(imgs):\n",
    "        masked_img = img.copy()\n",
    "        for line in mask:\n",
    "            missing_parts[i][line] = img[line].copy()\n",
    "            masked_img[line] = np.full(img.shape[1], 0)\n",
    "        masked_imgs[i] = masked_img\n",
    "    return np.expand_dims(masked_imgs,3), np.expand_dims(missing_parts,3)"
   ]
  },
  {
   "cell_type": "markdown",
   "metadata": {},
   "source": [
    "We train our models on a given batch"
   ]
  },
  {
   "cell_type": "code",
   "execution_count": 9,
   "metadata": {},
   "outputs": [],
   "source": [
    "X_train = y2_train.copy()\n",
    "\n",
    "def train(epochs, batch_size=128, sample_interval=50, label_switching=False):\n",
    "    global D_loss_plot, G_loss_plot\n",
    "    D_loss_plot = np.array([])\n",
    "    G_loss_plot = np.array([])\n",
    "    # Adversarial ground truths\n",
    "    valid = np.ones((batch_size, 1))\n",
    "    fake = np.zeros((batch_size, 1))\n",
    "\n",
    "    for epoch in range(epochs+1):\n",
    "\n",
    "        # ---------------------\n",
    "        #  Train Discriminator\n",
    "        # ---------------------\n",
    "\n",
    "        # Select a random batch of matrices\n",
    "        idx = np.random.randint(0, X_train.shape[0], batch_size)\n",
    "        imgs = X_train[idx]\n",
    "        \n",
    "        masked_imgs, missing_parts = mask_asia(imgs, maskAsia)\n",
    "        if not math.isnan(np.sum(imgs)) and not math.isnan(np.sum(masked_imgs)):\n",
    "            # Generate a batch of new matrices\n",
    "            gen_missing = generator.predict(masked_imgs)\n",
    "\n",
    "            d_loss_real = discriminator.train_on_batch(missing_parts, valid)\n",
    "            d_loss_fake = discriminator.train_on_batch(gen_missing, fake)\n",
    "            d_loss = 0.5 * np.add(d_loss_real, d_loss_fake)\n",
    "\n",
    "            # ---------------------\n",
    "            #  Train Generator\n",
    "            # ---------------------\n",
    "\n",
    "            g_loss = combined.train_on_batch(masked_imgs, [missing_parts, valid])\n",
    "\n",
    "            # Display and save the progress\n",
    "            clear_output(wait=True)\n",
    "            #fill the arrays of the Generator and Discriminator losses\n",
    "            D_loss_plot = np.append(D_loss_plot, d_loss[0])\n",
    "            G_loss_plot = np.append(G_loss_plot, g_loss[0])\n",
    "            print (\"%d [D loss: %f, acc: %.2f%%] [G loss: %f, mse: %f]\" % (epoch, d_loss[0], 100*d_loss[1], g_loss[0], g_loss[1]))\n",
    "            if epoch % sample_interval == 0:\n",
    "#                 idx = np.arange(10)\n",
    "#                 imgs = X_train[idx]\n",
    "                imgs = datasetAsia\n",
    "                sample_images(epoch, imgs, datasetAsiaInfos, generator)\n",
    "        else:\n",
    "            print(\"nan value in training set\")"
   ]
  },
  {
   "cell_type": "markdown",
   "metadata": {},
   "source": [
    "We save everything as binary from numpy arrays "
   ]
  },
  {
   "cell_type": "code",
   "execution_count": 10,
   "metadata": {},
   "outputs": [],
   "source": [
    "def sample_images(epoch, imgs, imgInfos, model):\n",
    "    r, c = 3, 6\n",
    "    finalArray = []\n",
    "    masked_imgs, missing_parts = mask_asia(imgs, maskAsia)\n",
    "    gen_missing = model.predict(masked_imgs)\n",
    "\n",
    "    \n",
    "    for i in range(c):\n",
    "        infosArray = imgInfos[i].copy()\n",
    "        infosArray = np.resize(infosArray, (1,13))\n",
    "        infosArray = np.append(infosArray, mean_absolute_error(imgs[i][testLine], gen_missing[i][testLine])*100)\n",
    "        filled_in = imgs[i].copy()\n",
    "        for line in maskAsia:\n",
    "            filled_in[line] = np.squeeze(gen_missing[i][line].copy(),1)\n",
    "        finalArray.append(np.array([imgs[i].reshape(24,144), filled_in.reshape(24, 144), infosArray], dtype='O'))\n",
    "    np.save('../NN_training/CEGAN_lines/CEGAN_Asia_epoch{}'.format(epoch), np.asarray(finalArray))"
   ]
  },
  {
   "cell_type": "markdown",
   "metadata": {},
   "source": [
    "The function below allows us to save the weights and architectures of our models"
   ]
  },
  {
   "cell_type": "code",
   "execution_count": 11,
   "metadata": {},
   "outputs": [],
   "source": [
    "def Save_models():\n",
    "    generator_json = generator.to_json()\n",
    "    discriminator_json = discriminator.to_json()\n",
    "\n",
    "    with open(\"{}generator_json.json\".format(pathModelSave), \"w\") as json_file:\n",
    "        json_file.write(generator_json)\n",
    "    with open(\"{}discriminator_json.json\".format(pathModelSave), \"w\") as json_file:\n",
    "        json_file.write(discriminator_json)\n",
    "\n",
    "    generator.save(\"{}generator_weights.h5\".format(pathModelSave))\n",
    "    discriminator.save(\"{}discriminator_weights.h5\".format(pathModelSave))"
   ]
  },
  {
   "cell_type": "markdown",
   "metadata": {},
   "source": [
    "We start the training and save the models + losses variations once it's over"
   ]
  },
  {
   "cell_type": "code",
   "execution_count": 12,
   "metadata": {},
   "outputs": [
    {
     "name": "stdout",
     "output_type": "stream",
     "text": [
      "10 [D loss: 0.693180, acc: 59.38%] [G loss: 0.087679, mse: 0.087062]\n"
     ]
    }
   ],
   "source": [
    "train(epochs=10, batch_size=16, sample_interval=10, label_switching=False)\n",
    "Save_models()\n",
    "np.save('../NN_training/CEGAN_lines/model_save/G_D_losses',np.array([G_loss_plot, D_loss_plot]))"
   ]
  },
  {
   "cell_type": "markdown",
   "metadata": {},
   "source": [
    "The function below loads the saved models to re-use them when needed "
   ]
  },
  {
   "cell_type": "code",
   "execution_count": 15,
   "metadata": {},
   "outputs": [],
   "source": [
    "def Load_CEGAN(path):\n",
    "    generator_json_load = open(\"{}generator_json.json\".format(path), 'r')\n",
    "    generator_model_json_read = generator_json_load.read()\n",
    "    generator_json_load.close()\n",
    "    generator_model = model_from_json(generator_model_json_read)\n",
    "    generator_model.load_weights(\"{}generator_weights.h5\".format(path))\n",
    "    generator_model=load_model('generator_model.hdf5', compile=True)\n",
    "    \n",
    "    discriminator_json_load = open(\"{}discriminator_json.json\".format(path), 'r')\n",
    "    discriminator_model_json_read = discriminator_json_load.read()\n",
    "    discriminator_json_load.close()\n",
    "    discriminator_model = model_from_json(discriminator_model_json_read)\n",
    "    discriminator_model.load_weights(\"{}discriminator_weights.h5\".format(path))\n",
    "    discriminator_model=load_model('discriminator_model.hdf5', compile=True)\n",
    "    \n",
    "    return generator_model, discriminator_model"
   ]
  },
  {
   "cell_type": "markdown",
   "metadata": {},
   "source": [
    "Example of the losses plot"
   ]
  },
  {
   "cell_type": "code",
   "execution_count": 18,
   "metadata": {},
   "outputs": [
    {
     "data": {
      "image/png": "[encoded data removed]",
      "text/plain": [
       "<Figure size 432x288 with 1 Axes>"
      ]
     },
     "metadata": {
      "needs_background": "light"
     },
     "output_type": "display_data"
    },
    {
     "data": {
      "image/png": "[encoded data removed]",
      "text/plain": [
       "<Figure size 432x288 with 1 Axes>"
      ]
     },
     "metadata": {
      "needs_background": "light"
     },
     "output_type": "display_data"
    }
   ],
   "source": [
    "plt.plot(np.load('../NN_training/CEGAN_lines/model_save/G_D_losses.npy')[0])\n",
    "plt.show()\n",
    "plt.plot(np.load('../NN_training/CEGAN_lines/model_save/G_D_losses.npy')[1])\n",
    "plt.show()"
   ]
  }
 ],
 "metadata": {
  "kernelspec": {
   "display_name": "Python 3",
   "language": "python",
   "name": "python3"
  },
  "language_info": {
   "codemirror_mode": {
    "name": "ipython",
    "version": 3
   },
   "file_extension": ".py",
   "mimetype": "text/x-python",
   "name": "python",
   "nbconvert_exporter": "python",
   "pygments_lexer": "ipython3",
   "version": "3.5.5"
  }
 },
 "nbformat": 4,
 "nbformat_minor": 4
}
